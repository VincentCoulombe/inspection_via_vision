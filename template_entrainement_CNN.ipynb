{
  "cells": [
    {
      "cell_type": "code",
      "execution_count": 56,
      "metadata": {
        "colab": {
          "base_uri": "https://localhost:8080/"
        },
        "id": "6txQeKaO-gKW",
        "outputId": "508aabfe-c397-420c-d36a-97c8c67f7933"
      },
      "outputs": [
        {
          "output_type": "stream",
          "name": "stdout",
          "text": [
            "0.12.0+cu113\n"
          ]
        }
      ],
      "source": [
        "import os\n",
        "import numpy as np\n",
        "import torch\n",
        "import torchvision\n",
        "from torchvision import transforms, datasets, models\n",
        "print(torchvision.__version__)\n",
        "from torch import nn as nn\n",
        "from torch.utils.data import DataLoader, ConcatDataset\n",
        "from sklearn.metrics import roc_auc_score, f1_score\n",
        "import matplotlib.pyplot as plt\n",
        "%matplotlib inline"
      ]
    },
    {
      "cell_type": "code",
      "execution_count": 2,
      "metadata": {
        "colab": {
          "base_uri": "https://localhost:8080/"
        },
        "id": "8j4O5N6V-gKb",
        "outputId": "bc85a270-db00-4125-d4e4-59ddcc831b40"
      },
      "outputs": [
        {
          "output_type": "stream",
          "name": "stdout",
          "text": [
            "cuda\n"
          ]
        }
      ],
      "source": [
        "DEVICE = torch.device(\"cuda\") if torch.cuda.is_available() else torch.device(\"cpu\")\n",
        "print(DEVICE)"
      ]
    },
    {
      "cell_type": "code",
      "source": [
        "from google.colab import drive\n",
        "drive.mount('/content/gdrive')"
      ],
      "metadata": {
        "id": "-cxb5kjl_1cR",
        "outputId": "33b93191-90fe-4c54-f4a3-f5133303b7fc",
        "colab": {
          "base_uri": "https://localhost:8080/"
        }
      },
      "execution_count": 3,
      "outputs": [
        {
          "output_type": "stream",
          "name": "stdout",
          "text": [
            "Mounted at /content/gdrive\n"
          ]
        }
      ]
    },
    {
      "cell_type": "code",
      "source": [
        "DATA_DIR = r\"/content/gdrive/MyDrive/Industrial Optical Inspection (datasets)/Industrial Optical Inspection (datasets)/Dataset texture\""
      ],
      "metadata": {
        "colab": {
          "base_uri": "https://localhost:8080/"
        },
        "id": "cCZAqjda_XcR",
        "outputId": "b31d1700-bd1e-41f7-f5b0-a93cdb9e0b17"
      },
      "execution_count": 73,
      "outputs": [
        {
          "output_type": "stream",
          "name": "stdout",
          "text": [
            "/content/gdrive/MyDrive\n",
            "/content/gdrive/MyDrive\n"
          ]
        }
      ]
    },
    {
      "cell_type": "markdown",
      "metadata": {
        "id": "RGR8OCG6-gKc"
      },
      "source": [
        "# 1 Reziser les images pour fitter dans le modèle\n",
        "\n",
        "Tableau de référence pour les inputs resolution des différents EfficientNet\n",
        "https://keras.io/examples/vision/image_classification_efficientnet_fine_tuning/"
      ]
    },
    {
      "cell_type": "code",
      "execution_count": 46,
      "metadata": {
        "id": "UXMvWzgp-gKe"
      },
      "outputs": [],
      "source": [
        "efficient_net_nb = 0\n",
        "nb_to_res = {\n",
        "    0: 224,\n",
        "    1: 240,\n",
        "    2: 260,\n",
        "    3: 300,\n",
        "    4: 380,\n",
        "    5: 456,\n",
        "    6: 528,\n",
        "    7: 600,    \n",
        "}\n",
        "resolution = (nb_to_res[efficient_net_nb], nb_to_res[efficient_net_nb])"
      ]
    },
    {
      "cell_type": "markdown",
      "metadata": {
        "id": "h5eSYCxe-gKf"
      },
      "source": [
        "# 2 Normalisation des couleurs\n",
        "\n",
        "Prendre celui qui performe le mieux"
      ]
    },
    {
      "cell_type": "code",
      "execution_count": 60,
      "metadata": {
        "id": "JSj2YCOu-gKg"
      },
      "outputs": [],
      "source": [
        "def to_uint8(x):\n",
        "  return x.type(torch.uint8)\n",
        "\n",
        "def to_float(x):\n",
        "  return x.type(torch.FloatTensor)\n",
        "\n",
        "normalisation = transforms.Compose([\n",
        "      transforms.ToTensor(),                      \n",
        "      transforms.Normalize(mean=[0.485, 0.456, 0.406], std=[0.229, 0.224, 0.225]), # A modifier\n",
        "      transforms.Resize(resolution)                                          \n",
        "])"
      ]
    },
    {
      "cell_type": "markdown",
      "metadata": {
        "id": "tMSviREg-gKi"
      },
      "source": [
        "# 3 Data Augmentation\n",
        "\n",
        "j'utilise RandAugment pour augmenter les données\n",
        "\n",
        "Ekin D Cubuk, Barret Zoph, Jonathon Shlens, and Quoc V Le. Randaugment: Practical data\n",
        "augmentation with no separate search. arXiv preprint arXiv:1909.13719, 2019."
      ]
    },
    {
      "cell_type": "code",
      "execution_count": 7,
      "metadata": {
        "id": "2X14v-19-gKj"
      },
      "outputs": [],
      "source": [
        "rand_augment = transforms.Compose([\n",
        "     transforms.RandAugment(),\n",
        "      normalisation,\n",
        "      transforms.Lambda(lambda x: to_uint8(x))      \n",
        "])"
      ]
    },
    {
      "cell_type": "markdown",
      "metadata": {
        "id": "rxj7X69o-gKk"
      },
      "source": [
        "# 5 Créer DataLoaders"
      ]
    },
    {
      "cell_type": "code",
      "execution_count": 75,
      "metadata": {
        "id": "zMapcHH8-gKk"
      },
      "outputs": [],
      "source": [
        "def creer_datasets(dataset_path: str, train_size: float = 0.9, data_augmentation: bool = True, seed: int = 69):\n",
        "    \n",
        "    train_dataset = datasets.ImageFolder(root=os.path.join(dataset_path, \"Train\"), transform=normalisation)\n",
        "    if data_augmentation:\n",
        "        rand_augmented_dataset = datasets.ImageFolder(root=os.path.join(dataset_path, \"Train\"), transform=rand_augment)\n",
        "        train_dataset = ConcatDataset([train_dataset, rand_augmented_dataset])\n",
        "    len_train_set = int(train_size*len(train_dataset))\n",
        "    train_dataset, val_dataset = torch.utils.data.random_split(train_dataset, [len_train_set, len(train_dataset)-len_train_set], generator=torch.Generator().manual_seed(seed))\n",
        "    test_dataset = datasets.ImageFolder(root=os.path.join(dataset_path, \"Test\"), transform=normalisation)\n",
        "    \n",
        "    return train_dataset, val_dataset, test_dataset\n",
        "\n",
        "def creer_dataloader(train_dataset: datasets.ImageFolder, val_dataset: datasets.ImageFolder, test_dataset: datasets.ImageFolder, batch_size: int = 32):\n",
        "    \n",
        "    pin_memory = bool(torch.cuda.is_available())\n",
        "   \n",
        "    train_loader = DataLoader(train_dataset, batch_size=batch_size, shuffle=True, pin_memory=pin_memory)\n",
        "    val_loader = DataLoader(val_dataset, batch_size=batch_size, shuffle=False, pin_memory=pin_memory)\n",
        "    test_loader = DataLoader(test_dataset, batch_size=batch_size, shuffle=False, pin_memory=pin_memory)\n",
        "    \n",
        "    return train_loader, val_loader, test_loader"
      ]
    },
    {
      "cell_type": "code",
      "execution_count": 76,
      "metadata": {
        "id": "H5pHmV_H-gKl"
      },
      "outputs": [],
      "source": [
        "train_dataset, val_dataset, test_dataset = creer_datasets(DATA_DIR, train_size=0.9, data_augmentation=True)\n",
        "train_loader, val_loader, test_loader = creer_dataloader(train_dataset, val_dataset, test_dataset, batch_size=64)"
      ]
    },
    {
      "cell_type": "markdown",
      "metadata": {
        "id": "dFcS1EuX-gKm"
      },
      "source": [
        "# 6 Charger un modèle"
      ]
    },
    {
      "cell_type": "code",
      "execution_count": 79,
      "metadata": {
        "colab": {
          "base_uri": "https://localhost:8080/",
          "height": 66,
          "referenced_widgets": [
            "54cf4a168d634f2c983549ff07382570",
            "c4524dee1503487690b0c84ab8c5a05d",
            "c9ff56e5050a4f7a914d5ac0e55d2b89",
            "4516603cfccd481c8d1f31e9fc491272",
            "1cd4904047a540eb988beaf54ea1a1d4",
            "914e62ca232b4df3a4ace8458a7d30c0",
            "3cd096e8da00427a93ccbb200e3f0043",
            "906dba116dd84ca39f6365fd0d837070",
            "09c1e2ecd1ef4caea9e3bc3cc3d80187",
            "1b04bf8dd85047d3ac7682ca71c0198c",
            "ec091605d5164df6a741043839437974"
          ]
        },
        "id": "UXzLJUHI-gKm",
        "outputId": "b22c4803-61b6-4b5c-e084-9bef9585497a"
      },
      "outputs": [
        {
          "output_type": "stream",
          "name": "stderr",
          "text": [
            "Downloading: \"https://download.pytorch.org/models/efficientnet_b0_rwightman-3dd342df.pth\" to /root/.cache/torch/hub/checkpoints/efficientnet_b0_rwightman-3dd342df.pth\n"
          ]
        },
        {
          "output_type": "display_data",
          "data": {
            "text/plain": [
              "  0%|          | 0.00/20.5M [00:00<?, ?B/s]"
            ],
            "application/vnd.jupyter.widget-view+json": {
              "version_major": 2,
              "version_minor": 0,
              "model_id": "54cf4a168d634f2c983549ff07382570"
            }
          },
          "metadata": {}
        }
      ],
      "source": [
        "def load_efficientnet(num_classes: int, efficient_net_nb: int = 0, pretrained: bool = True, freeze_batch_norm: bool = True):\n",
        "    \n",
        "    if efficient_net_nb == 0:\n",
        "        model = models.efficientnet_b0(pretrained=pretrained)\n",
        "    elif efficient_net_nb == 1:\n",
        "        model = models.efficientnet_b1(pretrained=pretrained)\n",
        "    elif efficient_net_nb == 2:\n",
        "        model = models.efficientnet_b2(pretrained=pretrained)\n",
        "    elif efficient_net_nb == 3:\n",
        "        model = models.efficientnet_b3(pretrained=pretrained)\n",
        "    elif efficient_net_nb == 4:\n",
        "        model = models.efficientnet_b4(pretrained=pretrained)\n",
        "    elif efficient_net_nb == 5:\n",
        "        model = models.efficientnet_b5(pretrained=pretrained)\n",
        "    elif efficient_net_nb == 6:\n",
        "        model = models.efficientnet_b6(pretrained=pretrained)\n",
        "    elif efficient_net_nb == 7:\n",
        "        model = models.efficientnet_b7(pretrained=pretrained)\n",
        "        \n",
        "    if freeze_batch_norm:\n",
        "        for module in model.modules():\n",
        "            if isinstance(module, nn.BatchNorm2d):\n",
        "                if hasattr(module, 'weight'):\n",
        "                    module.weight.requires_grad_(False)\n",
        "                if hasattr(module, 'bias'):\n",
        "                    module.bias.requires_grad_(False)\n",
        "    \n",
        "    model.classifier = nn.Sequential(nn.Dropout(p=0.5, inplace=True),\n",
        "                                    nn.Linear(in_features=model.classifier[1].in_features, out_features=num_classes, bias=True),\n",
        "                                    nn.Softmax(dim=1))\n",
        "    \n",
        "    return model\n",
        "\n",
        "model = load_efficientnet(len(test_dataset.classes), efficient_net_nb=efficient_net_nb, pretrained=True)"
      ]
    },
    {
      "cell_type": "markdown",
      "metadata": {
        "id": "rT-7HWUG-gKn"
      },
      "source": [
        "# 7 Entrainer le Modèle"
      ]
    },
    {
      "cell_type": "code",
      "execution_count": 80,
      "metadata": {
        "id": "NsuF-vmi-gKo"
      },
      "outputs": [],
      "source": [
        "def caculate_auc(predictions:torch.Tensor, labels:torch.Tensor) -> float:\n",
        "    \n",
        "    one_hot_labels = one_hot(labels, num_classes=predictions.shape[1])\n",
        "    return roc_auc_score(one_hot_labels, predictions, multi_class=\"ovr\", average=\"macro\")\n",
        "\n",
        "def one_hot(a: np.array, num_classes: int) -> np.array:\n",
        "    \n",
        "  return np.squeeze(np.eye(num_classes)[a.reshape(-1)]).astype(int)\n",
        "  \n",
        "def train_model(model: nn.Module, train_loader: DataLoader, epochs: int = 10, lr: float = 0.001, weight_decay: float = 0.0001, device: torch.device = DEVICE):\n",
        "    \n",
        "    model.to(device)\n",
        "    optimizer = torch.optim.Adam(model.parameters(), lr=lr, weight_decay=weight_decay)\n",
        "    scheduler = torch.optim.lr_scheduler.ReduceLROnPlateau(optimizer, patience=2, verbose=True)\n",
        "    criterion = nn.CrossEntropyLoss()\n",
        "    for epoch in range(epochs):\n",
        "        model.train()\n",
        "        batch_loss = []\n",
        "        batch_outputs = []\n",
        "        batch_labels = []\n",
        "        for images, labels in train_loader:\n",
        "            images = images.to(device)\n",
        "            labels = labels.to(device)\n",
        "            optimizer.zero_grad()\n",
        "            outputs = model(images)\n",
        "            loss = criterion(outputs, labels)\n",
        "            loss.backward()\n",
        "            optimizer.step()\n",
        "            batch_loss.append(loss.item())\n",
        "            batch_outputs.append(outputs.detach().cpu().numpy())\n",
        "            batch_labels.append(labels.detach().cpu().numpy())\n",
        "        scheduler.step(metrics=loss.item())\n",
        "        print(f\"\"\"Epoch: {epoch} ==> Loss moyenne: {sum(batch_loss)/len(batch_loss):.3f}\n",
        "              | Training AUC: {caculate_auc(np.concatenate(batch_outputs, axis=0), np.concatenate(batch_labels, axis=0)):.3f}\"\"\")\n",
        "    return model     \n",
        "    \n",
        "def eval_model(model: nn.Module, loader: DataLoader, device: torch.device = DEVICE):\n",
        "    \n",
        "    model.eval()\n",
        "    predictions = []\n",
        "    labels = []\n",
        "    with torch.no_grad():\n",
        "        for images, labels_ in loader:\n",
        "            images = images.to(device)\n",
        "            labels_ = labels_.to(device)\n",
        "            outputs = model(images)\n",
        "            predictions.append(outputs.detach().cpu().numpy())\n",
        "            labels.append(labels_.detach().cpu().numpy())\n",
        "    predictions = np.concatenate(predictions, axis=0)\n",
        "    labels = np.concatenate(labels, axis=0)\n",
        "    print(f\"AUC: {caculate_auc(predictions, labels):.3f}\")\n",
        "    return predictions, labels\n"
      ]
    },
    {
      "cell_type": "code",
      "execution_count": null,
      "metadata": {
        "id": "rQ-zFNy9-gKo"
      },
      "outputs": [],
      "source": [
        "model = train_model(model, train_loader, epochs=10)\n",
        "predictions, labels = eval_model(model, test_loader)"
      ]
    },
    {
      "cell_type": "code",
      "execution_count": null,
      "metadata": {
        "id": "lKFEMbr--gKp"
      },
      "outputs": [],
      "source": [
        "auc = str(round(caculate_auc(predictions, labels), 3))\n",
        "model = f\"efficientnet_b{efficient_net_nb}\"\n",
        "SAVE_DIR = f\"/content/gdrive/MyDrive/Colab Notebooks/Saved models/inspection visuelle/classes_model_auc_{auc}.pt\"\n",
        "torch.save(model.state_dict(),SAVE_DIR)"
      ]
    }
  ],
  "metadata": {
    "kernelspec": {
      "display_name": "Python 3.7.11 ('base')",
      "language": "python",
      "name": "python3"
    },
    "language_info": {
      "codemirror_mode": {
        "name": "ipython",
        "version": 3
      },
      "file_extension": ".py",
      "mimetype": "text/x-python",
      "name": "python",
      "nbconvert_exporter": "python",
      "pygments_lexer": "ipython3",
      "version": "3.7.11"
    },
    "orig_nbformat": 4,
    "vscode": {
      "interpreter": {
        "hash": "ad2bdc8ecc057115af97d19610ffacc2b4e99fae6737bb82f5d7fb13d2f2c186"
      }
    },
    "colab": {
      "name": "template_entrainement_CNN.ipynb",
      "provenance": []
    },
    "accelerator": "GPU",
    "gpuClass": "standard",
    "widgets": {
      "application/vnd.jupyter.widget-state+json": {
        "54cf4a168d634f2c983549ff07382570": {
          "model_module": "@jupyter-widgets/controls",
          "model_name": "HBoxModel",
          "model_module_version": "1.5.0",
          "state": {
            "_dom_classes": [],
            "_model_module": "@jupyter-widgets/controls",
            "_model_module_version": "1.5.0",
            "_model_name": "HBoxModel",
            "_view_count": null,
            "_view_module": "@jupyter-widgets/controls",
            "_view_module_version": "1.5.0",
            "_view_name": "HBoxView",
            "box_style": "",
            "children": [
              "IPY_MODEL_c4524dee1503487690b0c84ab8c5a05d",
              "IPY_MODEL_c9ff56e5050a4f7a914d5ac0e55d2b89",
              "IPY_MODEL_4516603cfccd481c8d1f31e9fc491272"
            ],
            "layout": "IPY_MODEL_1cd4904047a540eb988beaf54ea1a1d4"
          }
        },
        "c4524dee1503487690b0c84ab8c5a05d": {
          "model_module": "@jupyter-widgets/controls",
          "model_name": "HTMLModel",
          "model_module_version": "1.5.0",
          "state": {
            "_dom_classes": [],
            "_model_module": "@jupyter-widgets/controls",
            "_model_module_version": "1.5.0",
            "_model_name": "HTMLModel",
            "_view_count": null,
            "_view_module": "@jupyter-widgets/controls",
            "_view_module_version": "1.5.0",
            "_view_name": "HTMLView",
            "description": "",
            "description_tooltip": null,
            "layout": "IPY_MODEL_914e62ca232b4df3a4ace8458a7d30c0",
            "placeholder": "​",
            "style": "IPY_MODEL_3cd096e8da00427a93ccbb200e3f0043",
            "value": "100%"
          }
        },
        "c9ff56e5050a4f7a914d5ac0e55d2b89": {
          "model_module": "@jupyter-widgets/controls",
          "model_name": "FloatProgressModel",
          "model_module_version": "1.5.0",
          "state": {
            "_dom_classes": [],
            "_model_module": "@jupyter-widgets/controls",
            "_model_module_version": "1.5.0",
            "_model_name": "FloatProgressModel",
            "_view_count": null,
            "_view_module": "@jupyter-widgets/controls",
            "_view_module_version": "1.5.0",
            "_view_name": "ProgressView",
            "bar_style": "success",
            "description": "",
            "description_tooltip": null,
            "layout": "IPY_MODEL_906dba116dd84ca39f6365fd0d837070",
            "max": 21444401,
            "min": 0,
            "orientation": "horizontal",
            "style": "IPY_MODEL_09c1e2ecd1ef4caea9e3bc3cc3d80187",
            "value": 21444401
          }
        },
        "4516603cfccd481c8d1f31e9fc491272": {
          "model_module": "@jupyter-widgets/controls",
          "model_name": "HTMLModel",
          "model_module_version": "1.5.0",
          "state": {
            "_dom_classes": [],
            "_model_module": "@jupyter-widgets/controls",
            "_model_module_version": "1.5.0",
            "_model_name": "HTMLModel",
            "_view_count": null,
            "_view_module": "@jupyter-widgets/controls",
            "_view_module_version": "1.5.0",
            "_view_name": "HTMLView",
            "description": "",
            "description_tooltip": null,
            "layout": "IPY_MODEL_1b04bf8dd85047d3ac7682ca71c0198c",
            "placeholder": "​",
            "style": "IPY_MODEL_ec091605d5164df6a741043839437974",
            "value": " 20.5M/20.5M [00:00&lt;00:00, 50.9MB/s]"
          }
        },
        "1cd4904047a540eb988beaf54ea1a1d4": {
          "model_module": "@jupyter-widgets/base",
          "model_name": "LayoutModel",
          "model_module_version": "1.2.0",
          "state": {
            "_model_module": "@jupyter-widgets/base",
            "_model_module_version": "1.2.0",
            "_model_name": "LayoutModel",
            "_view_count": null,
            "_view_module": "@jupyter-widgets/base",
            "_view_module_version": "1.2.0",
            "_view_name": "LayoutView",
            "align_content": null,
            "align_items": null,
            "align_self": null,
            "border": null,
            "bottom": null,
            "display": null,
            "flex": null,
            "flex_flow": null,
            "grid_area": null,
            "grid_auto_columns": null,
            "grid_auto_flow": null,
            "grid_auto_rows": null,
            "grid_column": null,
            "grid_gap": null,
            "grid_row": null,
            "grid_template_areas": null,
            "grid_template_columns": null,
            "grid_template_rows": null,
            "height": null,
            "justify_content": null,
            "justify_items": null,
            "left": null,
            "margin": null,
            "max_height": null,
            "max_width": null,
            "min_height": null,
            "min_width": null,
            "object_fit": null,
            "object_position": null,
            "order": null,
            "overflow": null,
            "overflow_x": null,
            "overflow_y": null,
            "padding": null,
            "right": null,
            "top": null,
            "visibility": null,
            "width": null
          }
        },
        "914e62ca232b4df3a4ace8458a7d30c0": {
          "model_module": "@jupyter-widgets/base",
          "model_name": "LayoutModel",
          "model_module_version": "1.2.0",
          "state": {
            "_model_module": "@jupyter-widgets/base",
            "_model_module_version": "1.2.0",
            "_model_name": "LayoutModel",
            "_view_count": null,
            "_view_module": "@jupyter-widgets/base",
            "_view_module_version": "1.2.0",
            "_view_name": "LayoutView",
            "align_content": null,
            "align_items": null,
            "align_self": null,
            "border": null,
            "bottom": null,
            "display": null,
            "flex": null,
            "flex_flow": null,
            "grid_area": null,
            "grid_auto_columns": null,
            "grid_auto_flow": null,
            "grid_auto_rows": null,
            "grid_column": null,
            "grid_gap": null,
            "grid_row": null,
            "grid_template_areas": null,
            "grid_template_columns": null,
            "grid_template_rows": null,
            "height": null,
            "justify_content": null,
            "justify_items": null,
            "left": null,
            "margin": null,
            "max_height": null,
            "max_width": null,
            "min_height": null,
            "min_width": null,
            "object_fit": null,
            "object_position": null,
            "order": null,
            "overflow": null,
            "overflow_x": null,
            "overflow_y": null,
            "padding": null,
            "right": null,
            "top": null,
            "visibility": null,
            "width": null
          }
        },
        "3cd096e8da00427a93ccbb200e3f0043": {
          "model_module": "@jupyter-widgets/controls",
          "model_name": "DescriptionStyleModel",
          "model_module_version": "1.5.0",
          "state": {
            "_model_module": "@jupyter-widgets/controls",
            "_model_module_version": "1.5.0",
            "_model_name": "DescriptionStyleModel",
            "_view_count": null,
            "_view_module": "@jupyter-widgets/base",
            "_view_module_version": "1.2.0",
            "_view_name": "StyleView",
            "description_width": ""
          }
        },
        "906dba116dd84ca39f6365fd0d837070": {
          "model_module": "@jupyter-widgets/base",
          "model_name": "LayoutModel",
          "model_module_version": "1.2.0",
          "state": {
            "_model_module": "@jupyter-widgets/base",
            "_model_module_version": "1.2.0",
            "_model_name": "LayoutModel",
            "_view_count": null,
            "_view_module": "@jupyter-widgets/base",
            "_view_module_version": "1.2.0",
            "_view_name": "LayoutView",
            "align_content": null,
            "align_items": null,
            "align_self": null,
            "border": null,
            "bottom": null,
            "display": null,
            "flex": null,
            "flex_flow": null,
            "grid_area": null,
            "grid_auto_columns": null,
            "grid_auto_flow": null,
            "grid_auto_rows": null,
            "grid_column": null,
            "grid_gap": null,
            "grid_row": null,
            "grid_template_areas": null,
            "grid_template_columns": null,
            "grid_template_rows": null,
            "height": null,
            "justify_content": null,
            "justify_items": null,
            "left": null,
            "margin": null,
            "max_height": null,
            "max_width": null,
            "min_height": null,
            "min_width": null,
            "object_fit": null,
            "object_position": null,
            "order": null,
            "overflow": null,
            "overflow_x": null,
            "overflow_y": null,
            "padding": null,
            "right": null,
            "top": null,
            "visibility": null,
            "width": null
          }
        },
        "09c1e2ecd1ef4caea9e3bc3cc3d80187": {
          "model_module": "@jupyter-widgets/controls",
          "model_name": "ProgressStyleModel",
          "model_module_version": "1.5.0",
          "state": {
            "_model_module": "@jupyter-widgets/controls",
            "_model_module_version": "1.5.0",
            "_model_name": "ProgressStyleModel",
            "_view_count": null,
            "_view_module": "@jupyter-widgets/base",
            "_view_module_version": "1.2.0",
            "_view_name": "StyleView",
            "bar_color": null,
            "description_width": ""
          }
        },
        "1b04bf8dd85047d3ac7682ca71c0198c": {
          "model_module": "@jupyter-widgets/base",
          "model_name": "LayoutModel",
          "model_module_version": "1.2.0",
          "state": {
            "_model_module": "@jupyter-widgets/base",
            "_model_module_version": "1.2.0",
            "_model_name": "LayoutModel",
            "_view_count": null,
            "_view_module": "@jupyter-widgets/base",
            "_view_module_version": "1.2.0",
            "_view_name": "LayoutView",
            "align_content": null,
            "align_items": null,
            "align_self": null,
            "border": null,
            "bottom": null,
            "display": null,
            "flex": null,
            "flex_flow": null,
            "grid_area": null,
            "grid_auto_columns": null,
            "grid_auto_flow": null,
            "grid_auto_rows": null,
            "grid_column": null,
            "grid_gap": null,
            "grid_row": null,
            "grid_template_areas": null,
            "grid_template_columns": null,
            "grid_template_rows": null,
            "height": null,
            "justify_content": null,
            "justify_items": null,
            "left": null,
            "margin": null,
            "max_height": null,
            "max_width": null,
            "min_height": null,
            "min_width": null,
            "object_fit": null,
            "object_position": null,
            "order": null,
            "overflow": null,
            "overflow_x": null,
            "overflow_y": null,
            "padding": null,
            "right": null,
            "top": null,
            "visibility": null,
            "width": null
          }
        },
        "ec091605d5164df6a741043839437974": {
          "model_module": "@jupyter-widgets/controls",
          "model_name": "DescriptionStyleModel",
          "model_module_version": "1.5.0",
          "state": {
            "_model_module": "@jupyter-widgets/controls",
            "_model_module_version": "1.5.0",
            "_model_name": "DescriptionStyleModel",
            "_view_count": null,
            "_view_module": "@jupyter-widgets/base",
            "_view_module_version": "1.2.0",
            "_view_name": "StyleView",
            "description_width": ""
          }
        }
      }
    }
  },
  "nbformat": 4,
  "nbformat_minor": 0
}