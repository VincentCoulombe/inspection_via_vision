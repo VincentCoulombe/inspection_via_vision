{
 "cells": [
  {
   "cell_type": "code",
   "execution_count": 92,
   "metadata": {},
   "outputs": [
    {
     "name": "stdout",
     "output_type": "stream",
     "text": [
      "0.13.0+cpu\n"
     ]
    }
   ],
   "source": [
    "import numpy as np\n",
    "import torch\n",
    "import torchvision\n",
    "from torchvision import transforms, datasets, models\n",
    "print(torchvision.__version__)\n",
    "from torch import nn as nn\n",
    "from torch.utils.data import DataLoader, ConcatDataset\n",
    "from sklearn.metrics import roc_auc_score, f1_score\n",
    "import matplotlib.pyplot as plt\n",
    "%matplotlib inline"
   ]
  },
  {
   "cell_type": "code",
   "execution_count": 93,
   "metadata": {},
   "outputs": [
    {
     "name": "stdout",
     "output_type": "stream",
     "text": [
      "cpu\n"
     ]
    }
   ],
   "source": [
    "DEVICE = torch.device(\"cuda\") if torch.cuda.is_available() else torch.device(\"cpu\")\n",
    "print(DEVICE)"
   ]
  },
  {
   "cell_type": "markdown",
   "metadata": {},
   "source": [
    "# 1 Reziser les images pour fitter dans le modèle\n",
    "\n",
    "Tableau de référence pour les inputs resolution des différents EfficientNet\n",
    "https://keras.io/examples/vision/image_classification_efficientnet_fine_tuning/"
   ]
  },
  {
   "cell_type": "code",
   "execution_count": 94,
   "metadata": {},
   "outputs": [],
   "source": [
    "efficient_net_nb = 0\n",
    "nb_to_res = {\n",
    "    0: 224,\n",
    "    1: 240,\n",
    "    2: 260,\n",
    "    3: 300,\n",
    "    4: 380,\n",
    "    5: 456,\n",
    "    6: 528,\n",
    "    7: 600,    \n",
    "}\n",
    "resolution = (nb_to_res[efficient_net_nb], nb_to_res[efficient_net_nb])"
   ]
  },
  {
   "cell_type": "markdown",
   "metadata": {},
   "source": [
    "# 2 Normalisation des couleurs\n",
    "\n",
    "Prendre celui qui performe le mieux"
   ]
  },
  {
   "cell_type": "code",
   "execution_count": 95,
   "metadata": {},
   "outputs": [],
   "source": [
    "def to_uint8(x):\n",
    "  return x.type(torch.uint8)\n",
    "\n",
    "def to_float(x):\n",
    "  return x.type(torch.FloatTensor)\n",
    "\n",
    "normalisation = transforms.Compose([\n",
    "      transforms.ToTensor(),                      \n",
    "      transforms.Normalize(mean=[0.485, 0.456, 0.406], std=[0.229, 0.224, 0.225]), # A modifier\n",
    "      transforms.Resize(resolution)                                          \n",
    "])"
   ]
  },
  {
   "cell_type": "markdown",
   "metadata": {},
   "source": [
    "# 3 Data Augmentation\n",
    "\n",
    "j'utilise RandAugment pour augmenter les données\n",
    "\n",
    "Ekin D Cubuk, Barret Zoph, Jonathon Shlens, and Quoc V Le. Randaugment: Practical data\n",
    "augmentation with no separate search. arXiv preprint arXiv:1909.13719, 2019."
   ]
  },
  {
   "cell_type": "code",
   "execution_count": 96,
   "metadata": {},
   "outputs": [],
   "source": [
    "rand_augment = transforms.Compose([\n",
    "     transforms.RandAugment(),\n",
    "      normalisation,\n",
    "      transforms.Lambda(lambda x: to_uint8(x))      \n",
    "])"
   ]
  },
  {
   "cell_type": "markdown",
   "metadata": {},
   "source": [
    "# 5 Créer DataLoaders"
   ]
  },
  {
   "cell_type": "code",
   "execution_count": 135,
   "metadata": {},
   "outputs": [],
   "source": [
    "def creer_datasets(dataset_path: str, train_size: float = 0.9, data_augmentation: bool = True, seed: int = 69):\n",
    "    \n",
    "    train_dataset = datasets.ImageFolder(root=rf\"{dataset_path}\\train\", transform=normalisation)\n",
    "    if data_augmentation:\n",
    "        rand_augmented_dataset = datasets.ImageFolder(root=rf\"{dataset_path}\\train\", transform=rand_augment)\n",
    "        train_dataset = ConcatDataset([train_dataset, rand_augmented_dataset])\n",
    "    len_train_set = int(train_size*len(train_dataset))\n",
    "    train_dataset, val_dataset = torch.utils.data.random_split(train_dataset, [len_train_set, len(train_dataset)-len_train_set], generator=torch.Generator().manual_seed(seed))\n",
    "    test_dataset = datasets.ImageFolder(root=rf\"{dataset_path}\\test\", transform=normalisation)\n",
    "    \n",
    "    return train_dataset, val_dataset, test_dataset\n",
    "\n",
    "def creer_dataloader(train_dataset: datasets.ImageFolder, val_dataset: datasets.ImageFolder, test_dataset: datasets.ImageFolder, batch_size: int = 32):\n",
    "    \n",
    "    pin_memory = bool(torch.cuda.is_available())\n",
    "   \n",
    "    train_loader = DataLoader(train_dataset, batch_size=batch_size, shuffle=True, pin_memory=pin_memory)\n",
    "    val_loader = DataLoader(val_dataset, batch_size=batch_size, shuffle=False, pin_memory=pin_memory)\n",
    "    test_loader = DataLoader(test_dataset, batch_size=batch_size, shuffle=False, pin_memory=pin_memory)\n",
    "    \n",
    "    return train_loader, val_loader, test_loader"
   ]
  },
  {
   "cell_type": "code",
   "execution_count": 137,
   "metadata": {},
   "outputs": [],
   "source": [
    "OUT_DIR = \".\\Industrial Optical Inspection (reduced datasets)\\Dataset texture\"\n",
    "train_dataset, val_dataset, test_dataset = creer_datasets(OUT_DIR, train_size=0.9, data_augmentation=True)\n",
    "train_loader, val_loader, test_loader = creer_dataloader(train_dataset, val_dataset, test_dataset, batch_size=64)"
   ]
  },
  {
   "cell_type": "markdown",
   "metadata": {},
   "source": [
    "# 6 Charger un modèle"
   ]
  },
  {
   "cell_type": "code",
   "execution_count": 130,
   "metadata": {},
   "outputs": [
    {
     "name": "stderr",
     "output_type": "stream",
     "text": [
      "c:\\ProgramData\\Anaconda3\\lib\\site-packages\\torchvision\\models\\_utils.py:209: UserWarning: The parameter 'pretrained' is deprecated since 0.13 and will be removed in 0.15, please use 'weights' instead.\n",
      "  f\"The parameter '{pretrained_param}' is deprecated since 0.13 and will be removed in 0.15, \"\n",
      "c:\\ProgramData\\Anaconda3\\lib\\site-packages\\torchvision\\models\\_utils.py:223: UserWarning: Arguments other than a weight enum or `None` for 'weights' are deprecated since 0.13 and will be removed in 0.15. The current behavior is equivalent to passing `weights=EfficientNet_B0_Weights.IMAGENET1K_V1`. You can also use `weights=EfficientNet_B0_Weights.DEFAULT` to get the most up-to-date weights.\n",
      "  warnings.warn(msg)\n"
     ]
    }
   ],
   "source": [
    "def load_efficientnet(num_classes: int, efficient_net_nb: int = 0, pretrained: bool = True, freeze_batch_norm: bool = True):\n",
    "    \n",
    "    if efficient_net_nb == 0:\n",
    "        model = models.efficientnet_b0(pretrained=pretrained)\n",
    "    elif efficient_net_nb == 1:\n",
    "        model = models.efficientnet_b1(pretrained=pretrained)\n",
    "    elif efficient_net_nb == 2:\n",
    "        model = models.efficientnet_b2(pretrained=pretrained)\n",
    "    elif efficient_net_nb == 3:\n",
    "        model = models.efficientnet_b3(pretrained=pretrained)\n",
    "    elif efficient_net_nb == 4:\n",
    "        model = models.efficientnet_b4(pretrained=pretrained)\n",
    "    elif efficient_net_nb == 5:\n",
    "        model = models.efficientnet_b5(pretrained=pretrained)\n",
    "    elif efficient_net_nb == 6:\n",
    "        model = models.efficientnet_b6(pretrained=pretrained)\n",
    "    elif efficient_net_nb == 7:\n",
    "        model = models.efficientnet_b7(pretrained=pretrained)\n",
    "        \n",
    "    if freeze_batch_norm:\n",
    "        for module in model.modules():\n",
    "            if isinstance(module, nn.BatchNorm2d):\n",
    "                if hasattr(module, 'weight'):\n",
    "                    module.weight.requires_grad_(False)\n",
    "                if hasattr(module, 'bias'):\n",
    "                    module.bias.requires_grad_(False)\n",
    "    \n",
    "    model.classifier = nn.Sequential(nn.Dropout(p=0.5, inplace=True),\n",
    "                                    nn.Linear(in_features=model.classifier[1].in_features, out_features=num_classes, bias=True),\n",
    "                                    nn.Softmax(dim=1))\n",
    "    \n",
    "    return model\n",
    "\n",
    "model = load_efficientnet(len(test_dataset.classes), efficient_net_nb=efficient_net_nb, pretrained=True)"
   ]
  },
  {
   "cell_type": "markdown",
   "metadata": {},
   "source": [
    "# 7 Entrainer le Modèle"
   ]
  },
  {
   "cell_type": "code",
   "execution_count": 154,
   "metadata": {},
   "outputs": [],
   "source": [
    "def caculate_auc(predictions:torch.Tensor, labels:torch.Tensor) -> float:\n",
    "    \n",
    "    one_hot_labels = one_hot(labels, num_classes=predictions.shape[1])\n",
    "    return roc_auc_score(one_hot_labels, predictions, multi_class=\"ovr\", average=\"macro\")\n",
    "\n",
    "def one_hot(a: np.array, num_classes: int) -> np.array:\n",
    "    \n",
    "  return np.squeeze(np.eye(num_classes)[a.reshape(-1)]).astype(int)\n",
    "  \n",
    "def train_model(model: nn.Module, train_loader: DataLoader, epochs: int = 10, lr: float = 0.001, weight_decay: float = 0.0001, device: torch.device = DEVICE):\n",
    "    \n",
    "    model.to(device)\n",
    "    optimizer = torch.optim.Adam(model.parameters(), lr=lr, weight_decay=weight_decay)\n",
    "    scheduler = torch.optim.lr_scheduler.ReduceLROnPlateau(optimizer, patience=2, verbose=True)\n",
    "    criterion = nn.CrossEntropyLoss()\n",
    "    for epoch in range(epochs):\n",
    "        model.train()\n",
    "        batch_loss = []\n",
    "        batch_outputs = []\n",
    "        batch_labels = []\n",
    "        for images, labels in train_loader:\n",
    "            images = images.to(device)\n",
    "            labels = labels.to(device)\n",
    "            optimizer.zero_grad()\n",
    "            outputs = model(images)\n",
    "            loss = criterion(outputs, labels)\n",
    "            loss.backward()\n",
    "            optimizer.step()\n",
    "            batch_loss.append(loss.item())\n",
    "            batch_outputs.append(outputs.detach().cpu().numpy())\n",
    "            batch_labels.append(labels.detach().cpu().numpy())\n",
    "        scheduler.step(metrics=loss.item())\n",
    "        print(f\"\"\"Epoch: {epoch} ==> Loss moyenne: {sum(batch_loss)/len(batch_loss):.3f}\n",
    "              | AUC: {caculate_auc(np.concatenate(batch_outputs, axis=0), np.concatenate(batch_labels, axis=0)):.3f}\"\"\")\n",
    "    return model     \n",
    "    \n",
    "def eval_model(model: nn.Module, loader: DataLoader, device: torch.device = DEVICE):\n",
    "    \n",
    "    model.eval()\n",
    "    predictions = []\n",
    "    labels = []\n",
    "    with torch.no_grad():\n",
    "        for images, labels_ in loader:\n",
    "            images = images.to(device)\n",
    "            labels_ = labels_.to(device)\n",
    "            outputs = model(images)\n",
    "            predictions.append(outputs.detach().cpu().numpy())\n",
    "            labels.append(labels_.detach().cpu().numpy())\n",
    "    predictions = np.concatenate(predictions, axis=0)\n",
    "    labels = np.concatenate(labels, axis=0)\n",
    "    print(f\"AUC: {caculate_auc(predictions, labels):.3f}\")\n",
    "    return predictions, labels\n"
   ]
  },
  {
   "cell_type": "code",
   "execution_count": 155,
   "metadata": {},
   "outputs": [
    {
     "name": "stdout",
     "output_type": "stream",
     "text": [
      "Epoch: 0 ==> Loss moyenne: 1.547 | AUC: 0.995\n",
      "Epoch: 1 ==> Loss moyenne: 1.563 | AUC: 0.995\n"
     ]
    }
   ],
   "source": [
    "model = train_model(model, train_loader, epochs=2)\n",
    "predictions, labels = eval_model(model, test_loader)"
   ]
  },
  {
   "cell_type": "code",
   "execution_count": null,
   "metadata": {},
   "outputs": [],
   "source": [
    "SAVE_DIR = r\".\"\n",
    "torch.save(model.state_dict(),SAVE_DIR)"
   ]
  }
 ],
 "metadata": {
  "kernelspec": {
   "display_name": "Python 3.7.11 ('base')",
   "language": "python",
   "name": "python3"
  },
  "language_info": {
   "codemirror_mode": {
    "name": "ipython",
    "version": 3
   },
   "file_extension": ".py",
   "mimetype": "text/x-python",
   "name": "python",
   "nbconvert_exporter": "python",
   "pygments_lexer": "ipython3",
   "version": "3.7.11"
  },
  "orig_nbformat": 4,
  "vscode": {
   "interpreter": {
    "hash": "ad2bdc8ecc057115af97d19610ffacc2b4e99fae6737bb82f5d7fb13d2f2c186"
   }
  }
 },
 "nbformat": 4,
 "nbformat_minor": 2
}
